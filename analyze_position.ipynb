{
 "cells": [
  {
   "cell_type": "markdown",
   "metadata": {},
   "source": [
    "# Import the required libnraries"
   ]
  },
  {
   "cell_type": "code",
   "execution_count": null,
   "metadata": {},
   "outputs": [],
   "source": [
    "import librosa\n",
    "import matplotlib.pyplot as plt\n",
    "import numpy as np\n",
    "from lib import *"
   ]
  },
  {
   "cell_type": "markdown",
   "metadata": {},
   "source": [
    "# Load the data"
   ]
  },
  {
   "cell_type": "code",
   "execution_count": null,
   "metadata": {},
   "outputs": [],
   "source": [
    "# Initialize lists to store audio data and sample rates\n",
    "rir = np.zeros((2, 7, 6), dtype=object) # room impluse response\n",
    "sr = np.zeros((2, 7, 6), dtype=object) # sample rate\n",
    "\n",
    "for i in range(1, 3):  # speaker\n",
    "    for j in range(-3, 4):  # position\n",
    "        for k in range(1, 7):  # microphone\n",
    "            file_path = f'./data/IRs_valerio/pos_{j}_speaker_{i}/ir_pos_{j}_speaker_{i}_mic{k}.wav'\n",
    "            rir[i-1, j+3, k-1], sr[i-1, j+3, k-1] = librosa.load(file_path,sr=None)\n",
    "\n",
    "print('all done!')"
   ]
  },
  {
   "cell_type": "code",
   "execution_count": null,
   "metadata": {},
   "outputs": [],
   "source": [
    "sr = sr[0,0,0]\n",
    "time = np.arange(0, len(rir[0,0,0])) / sr  # Assuming same length for all audio signals\n",
    "print('sample:',time.size, 'time:', time.size/sr,'s')"
   ]
  },
  {
   "cell_type": "markdown",
   "metadata": {},
   "source": [
    "# Check the index of the postions and speakers"
   ]
  },
  {
   "cell_type": "code",
   "execution_count": null,
   "metadata": {},
   "outputs": [],
   "source": [
    "plt.figure(figsize=(12, 4))\n",
    "# Plot each line\n",
    "for i in range(0, 7):\n",
    "    plt.plot(time, rir[0,i,0], label=f'Position {i-3}')\n",
    "\n",
    "# Add labels and legend\n",
    "plt.xlabel('Time/s')\n",
    "plt.ylabel('Amplitude')\n",
    "plt.title('Direct Sound from Speaker 1 to Microphone 1 at Different Positions')\n",
    "plt.legend()\n",
    "plt.xlim(0, 0.01)\n",
    "# Show the plot\n",
    "plt.show()"
   ]
  },
  {
   "cell_type": "markdown",
   "metadata": {},
   "source": [
    "## Conclusion: speaker and position indexes are right!"
   ]
  },
  {
   "cell_type": "markdown",
   "metadata": {},
   "source": [
    "# Determin the relationship between the microphones' index and their position"
   ]
  },
  {
   "cell_type": "code",
   "execution_count": null,
   "metadata": {},
   "outputs": [],
   "source": [
    "plt.figure(figsize=(12, 4))\n",
    "# Plot each line\n",
    "for i in range(0, 6):\n",
    "    plt.plot(time, rir[0,0,i], label=f'Mic {i+1}')\n",
    "\n",
    "# Add labels and legend\n",
    "plt.xlabel('Time')\n",
    "plt.ylabel('Amplitude')\n",
    "plt.title('Direct Sound from Speaker 1 to Microphone i at Position -3')\n",
    "plt.legend()\n",
    "plt.xlim(0.0015, 0.003)\n",
    "# Show the plot\n",
    "plt.show()\n"
   ]
  },
  {
   "cell_type": "markdown",
   "metadata": {},
   "source": [
    "Conclusion: Mic1 and Mic2 lays at x axis"
   ]
  },
  {
   "cell_type": "code",
   "execution_count": null,
   "metadata": {},
   "outputs": [],
   "source": [
    "plt.figure(figsize=(12, 4))\n",
    "# Plot each line\n",
    "for i in range(0, 6):\n",
    "    plt.plot(time, rir[1,2,i], label=f'Mic {i+1}')\n",
    "\n",
    "# Add labels and legend\n",
    "plt.xlabel('Time')\n",
    "plt.ylabel('Amplitude')\n",
    "plt.title('Direct Sound from Speaker 2 to Microphone i at Position 0')\n",
    "plt.legend()\n",
    "plt.xlim(0.0025, 0.004)\n",
    "# Show the plot\n",
    "plt.show()\n"
   ]
  },
  {
   "cell_type": "markdown",
   "metadata": {},
   "source": [
    "Conclusion: Mic3 and Mic4 lays at y axis"
   ]
  },
  {
   "cell_type": "markdown",
   "metadata": {},
   "source": [
    "# Create the position 3D array and plot the speakers and microphones"
   ]
  },
  {
   "cell_type": "code",
   "execution_count": null,
   "metadata": {},
   "outputs": [],
   "source": [
    "# Create positions for mics and speakers in meters\n",
    "p_speaker1 = np.array([-1, 0, 0])\n",
    "p_speaker2 = np.array([0, 0.5, 0])\n",
    "p_mic = np.zeros((7, 6), dtype=object)\n",
    "Radius = 0.025  # 25 mm\n",
    "for j in range(0, 7):  # position\n",
    "    p_center = np.array([j-3, 0, 0])*0.4\n",
    "    p_mic[j, 0] = p_center + np.array([-Radius, 0, 0 ])\n",
    "    p_mic[j, 1] = p_center + np.array([Radius, 0, 0])\n",
    "    p_mic[j, 2] = p_center + np.array([0, Radius, 0])\n",
    "    p_mic[j, 3] = p_center + np.array([0, -Radius, 0])\n",
    "    p_mic[j, 4] = p_center + np.array([0, 0, Radius])\n",
    "    p_mic[j, 5] = p_center + np.array([0, 0, -Radius])"
   ]
  },
  {
   "cell_type": "code",
   "execution_count": null,
   "metadata": {},
   "outputs": [],
   "source": [
    "# plot all mics and speakers\n",
    "fig = plt.figure()\n",
    "ax = fig.add_subplot(111, projection='3d')\n",
    "ax.scatter(0, 0, 0, c='r', marker='*')\n",
    "ax.scatter(p_speaker1[0], p_speaker1[1], p_speaker1[2], c='r', marker='o')\n",
    "ax.scatter(p_speaker2[0], p_speaker2[1], p_speaker2[2], c='r', marker='o')\n",
    "for i in range(0, 7):\n",
    "    for j in range(0, 6):\n",
    "        ax.scatter(p_mic[i, j][0], p_mic[i, j][1], p_mic[i, j][2], c='b', marker='^')\n",
    "ax.set_xlabel('X Label')\n",
    "ax.set_ylabel('Y Label')\n",
    "ax.set_zlabel('Z Label')\n",
    "ax.axis('equal')\n",
    "plt.show()"
   ]
  },
  {
   "cell_type": "code",
   "execution_count": null,
   "metadata": {},
   "outputs": [],
   "source": [
    "# calculate distance between mic and speaker\n",
    "np.linalg.norm(p_mic[0, 0] - p_speaker1)"
   ]
  }
 ],
 "metadata": {
  "kernelspec": {
   "display_name": "base",
   "language": "python",
   "name": "python3"
  },
  "language_info": {
   "codemirror_mode": {
    "name": "ipython",
    "version": 3
   },
   "file_extension": ".py",
   "mimetype": "text/x-python",
   "name": "python",
   "nbconvert_exporter": "python",
   "pygments_lexer": "ipython3",
   "version": "3.9.7"
  }
 },
 "nbformat": 4,
 "nbformat_minor": 2
}
