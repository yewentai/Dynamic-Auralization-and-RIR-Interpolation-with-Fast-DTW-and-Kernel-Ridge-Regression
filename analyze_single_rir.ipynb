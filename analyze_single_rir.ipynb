{
 "cells": [
  {
   "cell_type": "markdown",
   "metadata": {},
   "source": [
    "# Load libs and date"
   ]
  },
  {
   "cell_type": "code",
   "execution_count": null,
   "metadata": {},
   "outputs": [],
   "source": [
    "import librosa\n",
    "import matplotlib.pyplot as plt\n",
    "import numpy as np\n",
    "from lib import *"
   ]
  },
  {
   "cell_type": "code",
   "execution_count": null,
   "metadata": {},
   "outputs": [],
   "source": [
    "# Initialize lists to store audio data and sample rates\n",
    "rir = np.zeros((2, 7, 6), dtype=object) # room impluse response\n",
    "sr = np.zeros((2, 7, 6), dtype=object) # sample rate\n",
    "\n",
    "for i in range(1, 3):  # speaker\n",
    "    for j in range(-3, 4):  # position\n",
    "        for k in range(1, 7):  # microphone\n",
    "            file_path = f'./data/IRs_valerio/pos_{j}_speaker_{i}/ir_pos_{j}_speaker_{i}_mic{k}.wav'\n",
    "            rir[i-1, j+3, k-1], sr[i-1, j+3, k-1] = librosa.load(file_path, sr=None)\n",
    "\n",
    "print('all done!')"
   ]
  },
  {
   "cell_type": "code",
   "execution_count": null,
   "metadata": {},
   "outputs": [],
   "source": [
    "sr = sr[0,0,0]\n",
    "time = np.arange(0, len(rir[0,0,0])) / sr  # Assuming same length for all audio signals\n",
    "print('sample:',time.size, 'time:', time.size/sr,'s','sample rate:',sr,'Hz')"
   ]
  },
  {
   "cell_type": "markdown",
   "metadata": {},
   "source": [
    "# Plot the waveform"
   ]
  },
  {
   "cell_type": "code",
   "execution_count": null,
   "metadata": {},
   "outputs": [],
   "source": [
    "# Plot the waveform with a lighter line style\n",
    "plt.figure(figsize=(12, 4))\n",
    "plt.plot(time, rir[0,0,0], linewidth=1, color='b')  # Adjust line width and color\n",
    "plt.title('RIR Waveform')\n",
    "plt.xlabel('Time (s)')\n",
    "plt.ylabel('Amplitude')\n",
    "\n",
    "# Set x-axis limits to focus on the beginning of the audio\n",
    "plt.xlim(0, 0.15)  # Adjust the limits as needed\n",
    "plt.savefig('./assets/rir_waveform.png', dpi=300, bbox_inches='tight')\n",
    "plt.show()"
   ]
  },
  {
   "cell_type": "markdown",
   "metadata": {},
   "source": [
    "## How to define the start of Direct Sound?"
   ]
  },
  {
   "cell_type": "code",
   "execution_count": null,
   "metadata": {},
   "outputs": [],
   "source": [
    "from scipy.signal import hilbert\n",
    "\n",
    "filepath_1 = 'data\\omni\\s1_r1_o.wav'\n",
    "signal_1, sr_1 = librosa.load(filepath_1,sr=22100)\n",
    "time_1 = np.arange(len(signal_1)) / sr_1\n",
    "\n",
    "# Calculate Hilbert Transform\n",
    "analytic_signal = hilbert(signal_1)\n",
    "\n",
    "# Extract phase information\n",
    "instantaneous_phase = np.angle(analytic_signal)\n",
    "\n",
    "# Plot original signal and instantaneous phase\n",
    "plt.figure(figsize=(10, 4))\n",
    "\n",
    "plt.subplot(2, 1, 1)\n",
    "plt.plot(time_1, signal_1, label='Original Signal')\n",
    "plt.title('Original Signal')\n",
    "\n",
    "plt.xlim(0.009, 0.02)\n",
    "\n",
    "plt.subplot(2, 1, 2)\n",
    "plt.plot(time_1, instantaneous_phase, label='Instantaneous Phase', color='r')\n",
    "plt.title('Instantaneous Phase')\n",
    "\n",
    "plt.xlim(0.009, 0.02)\n",
    "\n",
    "plt.tight_layout()\n",
    "plt.savefig('./assets/phase.png', dpi=300, bbox_inches='tight')\n",
    "plt.show()\n"
   ]
  },
  {
   "cell_type": "markdown",
   "metadata": {},
   "source": [
    "## How to devide early reflections and late reflections?"
   ]
  },
  {
   "cell_type": "code",
   "execution_count": null,
   "metadata": {},
   "outputs": [],
   "source": [
    "# audio_file_path = '/Users/yewentai/Downloads/JENNIE - SOLO (AUDIO).mp3'\n",
    "early_echo_index, early_echo_time = edc_analyze(rir[0,0,0], sr, plot=True)\n",
    "\n",
    "print(f'Early Echo Index: {early_echo_index}')\n",
    "print(f'Early Echo Time: {early_echo_time} seconds')\n",
    "\n",
    "# 20dB decay time"
   ]
  }
 ],
 "metadata": {
  "kernelspec": {
   "display_name": "base",
   "language": "python",
   "name": "python3"
  },
  "language_info": {
   "codemirror_mode": {
    "name": "ipython",
    "version": 3
   },
   "file_extension": ".py",
   "mimetype": "text/x-python",
   "name": "python",
   "nbconvert_exporter": "python",
   "pygments_lexer": "ipython3",
   "version": "3.9.7"
  }
 },
 "nbformat": 4,
 "nbformat_minor": 2
}
