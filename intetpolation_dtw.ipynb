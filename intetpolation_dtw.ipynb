{
 "cells": [
  {
   "cell_type": "code",
   "execution_count": null,
   "metadata": {},
   "outputs": [],
   "source": [
    "import librosa\n",
    "import matplotlib.pyplot as plt\n",
    "import numpy as np\n",
    "import os\n",
    "import soundfile as sf\n",
    "from lib import *"
   ]
  },
  {
   "cell_type": "code",
   "execution_count": null,
   "metadata": {},
   "outputs": [],
   "source": [
    "# Initialize lists to store audio data and sample rates\n",
    "rir = np.zeros((2, 21, 6), dtype=object) # room impluse response\n",
    "sr = np.zeros((2, 21, 6), dtype=object) # sample rate\n",
    "early_echo_index = np.zeros((2, 21, 6), dtype=object) # early echo index\n",
    "early_echo_time = np.zeros((2, 21, 6), dtype=object) # early echo time\n",
    "# Load audio files\n",
    "folder = './data/RIRs/'\n",
    "sr = int(48e3)\n",
    "for i in range(1, 3):  # speaker\n",
    "    for j in range(0, 21):  # position\n",
    "        for k in range(1, 7):  # microphone\n",
    "            if j < 10:\n",
    "                file_path = os.path.join(folder,f's{i}_p0{j}_m{k}.wav')\n",
    "            else:\n",
    "                file_path = os.path.join(folder,f's{i}_p{j}_m{k}.wav')\n",
    "            rir[i-1, j, k-1] = sf.read(file_path)[0]\n",
    "            early_echo_index[i-1, j, k-1],early_echo_time[i-1, j, k-1] = edc_analyze(rir[i-1,j,k-1], sr,threshold=10e-2, plot=False)"
   ]
  },
  {
   "cell_type": "code",
   "execution_count": null,
   "metadata": {},
   "outputs": [],
   "source": [
    "import matplotlib.pyplot as plt\n",
    "from mpl_toolkits.mplot3d import Axes3D\n",
    "\n",
    "# Create positions for mics and speakers in meters\n",
    "p_speaker = np.zeros((2, 3))\n",
    "p_speaker[0] = np.array([1.2, 2.6, 0])\n",
    "p_speaker[1] = np.array([0.34 + 2.39, 0, 0])  # Adjusted from p_speaker[2] to p_speaker[1]\n",
    "p_mic = np.zeros((21, 6, 3))  # Adjusted for better performance and consistency\n",
    "Radius = 0.025  # 25 mm\n",
    "for j in range(0, 21):  # position\n",
    "    p_center = np.array([j, 0, 0]) * 0.1\n",
    "    p_mic[j, 0] = p_center + np.array([0, -Radius, 0])\n",
    "    p_mic[j, 1] = p_center + np.array([0, Radius, 0])\n",
    "    p_mic[j, 2] = p_center + np.array([-Radius, 0, 0])\n",
    "    p_mic[j, 3] = p_center + np.array([Radius, 0, 0])\n",
    "    p_mic[j, 4] = p_center + np.array([0, 0, Radius])\n",
    "    p_mic[j, 5] = p_center + np.array([0, 0, -Radius])\n",
    "\n",
    "# Plot all mics and speakers\n",
    "fig = plt.figure()\n",
    "ax = fig.add_subplot(111, projection='3d')\n",
    "ax.scatter(*p_speaker[0], c='r', marker='o')\n",
    "ax.scatter(*p_speaker[1], c='r', marker='o')\n",
    "for i in range(0, 21):\n",
    "    for j in range(0, 6):\n",
    "        ax.scatter(*p_mic[i, j], c='b', marker='^')\n",
    "ax.set_xlabel('X Label')\n",
    "ax.set_ylabel('Y Label')\n",
    "ax.set_zlabel('Z Label')\n",
    "ax.axis('equal')\n",
    "plt.show()\n"
   ]
  },
  {
   "cell_type": "code",
   "execution_count": null,
   "metadata": {},
   "outputs": [],
   "source": [
    "rir_early = np.zeros((2, 21, 6), dtype=object)\n",
    "for i in range(1, 3):  # speaker\n",
    "    for j in range(0, 21):  # position\n",
    "        for k in range(1, 7):  # microphone\n",
    "            rir_early[i-1, j, k-1] = rir[i-1, j, k-1][0:early_echo_index[i-1, j, k-1]]"
   ]
  },
  {
   "cell_type": "code",
   "execution_count": null,
   "metadata": {},
   "outputs": [],
   "source": [
    "p_interpolation = np.zeros((20, 6, 3))  # Assuming you want to store 3D coordinates\n",
    "for j in range(20):  # position\n",
    "    for k in range(6):  # microphone\n",
    "        # Create an array with the two points and calculate the mean along axis 0\n",
    "        p_interpolation[j, k] = np.mean([p_mic[j, k], p_mic[j+1, k]], axis=0)\n",
    "\n",
    "d_mic_speaker = np.zeros((2, 21, 6), dtype=object)\n",
    "for i in range(2):  # speaker\n",
    "    for j in range(21):  # position\n",
    "        for k in range(6):  # microphone\n",
    "            d_mic_speaker[i,j,k] = np.linalg.norm(p_mic[j, k] - p_speaker[i])\n",
    "\n",
    "d_interpolation_speaker = np.zeros((2, 20, 6), dtype=object)\n",
    "for i in range(2):  # speaker\n",
    "    for j in range(20):  # position\n",
    "        for k in range(6):  # microphone\n",
    "            d_interpolation_speaker[i,j,k] = np.linalg.norm(p_interpolation[j, k] - p_speaker[i])\n",
    "\n",
    "alpha = np.zeros((2, 20, 6), dtype=object)\n",
    "for i in range(2):  # speaker\n",
    "    for j in range(20):  # position\n",
    "        for k in range(6):  # microphone\n",
    "            alpha[i,j,k] = (1/d_mic_speaker[i,j,k]-1/d_interpolation_speaker[i,j,k])/(1/d_mic_speaker[i,j,k]-1/d_mic_speaker[i,j+1,k])"
   ]
  },
  {
   "cell_type": "code",
   "execution_count": null,
   "metadata": {},
   "outputs": [],
   "source": [
    "# from scipy.signal import find_peaks\n",
    "\n",
    "# # Assuming cal_dtw_matrix returns both dtw_matrix and path\n",
    "# for i in range(2):\n",
    "#     for j in range(20):\n",
    "#         for k in range(6):\n",
    "#             dtw_matrix, path = cal_dtw_matrix(rir_early[i, j, k], rir_early[i, j+1, k])\n",
    "#             print(\"dtw matrix calculated\")\n",
    "#             s_warp_vec = path[:,0]\n",
    "#             s_warp = np.array([])\n",
    "#             for m in range(0, len(s_warp_vec)):\n",
    "#                 s_warp = np.append(s_warp, rir_early[i, j, k][s_warp_vec[m]-1])\n",
    "#             t_warp_vec = path[:,1]\n",
    "#             t_warp = np.array([])\n",
    "#             for n in range(0, len(t_warp_vec)):\n",
    "#                 t_warp = np.append(t_warp, rir_early[i, j+1, k][t_warp_vec[n]-1])\n",
    "#             i_warp = alpha[i,j,k]*s_warp+(1-alpha[i,j,k])*t_warp\n",
    "#             print(\"i_warp calculated\")\n",
    "#             # align the warped i_warp with the theoretical rir\n",
    "#             peaks_s, _ = find_peaks(rir_early[i, j, k], height=10, distance=1000)\n",
    "#             peaks_t, _ = find_peaks(rir_early[i, j+1, k], height=10, distance=1000)\n",
    "#             peaks_i, _ = find_peaks(i_warp, height=10, distance=1000)\n",
    "#             shift = int((peaks_t[0] + peaks_s[0]) / 2) - int(peaks_i[0])\n",
    "#             i_warp = np.roll(i_warp, shift)\n",
    "#             # crop the i_warp as the length of the original rir\n",
    "#             i_warp = i_warp[0:len(rir_early[i, j, k])]\n",
    "#             # write the i_warp into wav file\n",
    "#             sf.write(f'./data/iRIRs/s{i}_p{j}_m{k}.wav', i_warp, sr,subtype=\"FLOAT\")\n",
    "#             print(\"i_warp written\")"
   ]
  },
  {
   "cell_type": "code",
   "execution_count": 10,
   "metadata": {},
   "outputs": [
    {
     "name": "stderr",
     "output_type": "stream",
     "text": [
      "Speakers:  50%|█████     | 1/2 [02:03<02:03, 123.91s/it]"
     ]
    }
   ],
   "source": [
    "from scipy.signal import find_peaks\n",
    "from fastdtw import fastdtw\n",
    "from tqdm import tqdm\n",
    "\n",
    "# Assuming cal_dtw_matrix returns both dtw_matrix and path\n",
    "for i in tqdm(range(2), desc='Speakers', leave=True):\n",
    "    for j in tqdm(range(20), desc='Positions', leave=False):\n",
    "        for k in range(6):\n",
    "            path = fastdtw(rir_early[i, j, k].tolist(), rir_early[i, j+1, k].tolist())[1]\n",
    "            s_warp_vec = [point[0] for point in path]\n",
    "            s_warp = np.array([])\n",
    "            for m in range(0, len(s_warp_vec)):\n",
    "                s_warp = np.append(s_warp, rir_early[i, j, k][s_warp_vec[m]-1])\n",
    "            t_warp_vec = [point[1] for point in path]\n",
    "            t_warp = np.array([])\n",
    "            for n in range(0, len(t_warp_vec)):\n",
    "                t_warp = np.append(t_warp, rir_early[i, j+1, k][t_warp_vec[n]-1])\n",
    "            i_warp = alpha[i,j,k]*s_warp+(1-alpha[i,j,k])*t_warp\n",
    "            # align the warped i_warp with the theoretical rir\n",
    "            peaks_s, _ = find_peaks(rir_early[i, j, k], height=10, distance=1000)\n",
    "            peaks_t, _ = find_peaks(rir_early[i, j+1, k], height=10, distance=1000)\n",
    "            peaks_i, _ = find_peaks(i_warp, height=10, distance=1000)\n",
    "            shift = int((peaks_t[0] + peaks_s[0]) / 2) - int(peaks_i[0])\n",
    "            i_warp = np.roll(i_warp, shift)\n",
    "            # crop the i_warp as the length of the original rir\n",
    "            i_warp = i_warp[0:len(rir_early[i, j, k])]\n",
    "            # write the i_warp into wav file\n",
    "            if i <= 10:\n",
    "                sf.write(f'./data/RIRs/s{i}_p0{j}i_m{k}.wav', i_warp, sr,subtype=\"FLOAT\")\n",
    "            else:\n",
    "                sf.write(f'./data/RIRs/s{i}_p{j}i_m{k}.wav', i_warp, sr,subtype=\"FLOAT\")"
   ]
  }
 ],
 "metadata": {
  "kernelspec": {
   "display_name": "base",
   "language": "python",
   "name": "python3"
  },
  "language_info": {
   "codemirror_mode": {
    "name": "ipython",
    "version": 3
   },
   "file_extension": ".py",
   "mimetype": "text/x-python",
   "name": "python",
   "nbconvert_exporter": "python",
   "pygments_lexer": "ipython3",
   "version": "3.9.7"
  }
 },
 "nbformat": 4,
 "nbformat_minor": 2
}
