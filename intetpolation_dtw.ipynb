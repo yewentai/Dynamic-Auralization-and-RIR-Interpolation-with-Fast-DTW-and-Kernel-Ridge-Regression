{
 "cells": [
  {
   "cell_type": "code",
   "execution_count": null,
   "metadata": {},
   "outputs": [],
   "source": [
    "import librosa\n",
    "import matplotlib.pyplot as plt\n",
    "import numpy as np\n",
    "import os\n",
    "import soundfile as sf\n",
    "from lib import *"
   ]
  },
  {
   "cell_type": "code",
   "execution_count": null,
   "metadata": {},
   "outputs": [],
   "source": [
    "# Initialize lists to store audio data and sample rates\n",
    "rir = np.zeros((2, 21, 6), dtype=object) # room impluse response\n",
    "sr = np.zeros((2, 21, 6), dtype=object) # sample rate\n",
    "\n",
    "# Load audio files\n",
    "folder = './RIRs/'\n",
    "for i in range(1, 3):  # speaker\n",
    "    for j in range(0, 21):  # position\n",
    "        for k in range(1, 7):  # microphone\n",
    "            if j < 10:\n",
    "                file_path = os.path.join(folder,f's{i}_p0{j}_m{k}.wav')\n",
    "            else:\n",
    "                file_path = os.path.join(folder,f's{i}_p{j}_m{k}.wav')\n",
    "            rir[i-1, j, k-1], sr[i-1, j, k-1] = sf.read(file_path)\n",
    "\n",
    "sr = sr[0,0,0]"
   ]
  },
  {
   "cell_type": "code",
   "execution_count": null,
   "metadata": {},
   "outputs": [],
   "source": [
    "s = rir[0,20,0]\n",
    "time = np.arange(0, len(s)) / sr\n",
    "plt.plot(time, s)\n",
    "plt.xlim([0,0.05])\n"
   ]
  },
  {
   "cell_type": "code",
   "execution_count": null,
   "metadata": {},
   "outputs": [],
   "source": [
    "s = rir[0,0,0][0:2000]\n",
    "t = rir[0,2,0][0:2000]\n",
    "ref = rir[0,1,0][0:2000]\n",
    "time = np.arange(0, len(s)) / sr\n",
    "dtw_matrix = cal_dtw_matrix(s,t)"
   ]
  },
  {
   "cell_type": "code",
   "execution_count": null,
   "metadata": {},
   "outputs": [],
   "source": [
    "# Create positions for mics and speakers in meters\n",
    "p_speaker1 = np.array([1.2, 2.6, 0])\n",
    "p_speaker2 = np.array([0.34+2.39, 0, 0])\n",
    "p_mic = np.zeros((21, 6), dtype=object)\n",
    "Radius = 0.025  # 25 mm\n",
    "for j in range(0, 21):  # position\n",
    "    p_center = np.array([j, 0, 0])*0.1\n",
    "    p_mic[j, 0] = p_center + np.array([0, -Radius, 0 ])\n",
    "    p_mic[j, 1] = p_center + np.array([0, Radius, 0])\n",
    "    p_mic[j, 2] = p_center + np.array([-Radius, 0, 0])\n",
    "    p_mic[j, 3] = p_center + np.array([Radius, 0, 0])\n",
    "    p_mic[j, 4] = p_center + np.array([0, 0, Radius])\n",
    "    p_mic[j, 5] = p_center + np.array([0, 0, -Radius])\n",
    "\n",
    "# plot all mics and speakers\n",
    "fig = plt.figure()\n",
    "ax = fig.add_subplot(111, projection='3d')\n",
    "ax.scatter(0, 0, 0, c='r', marker='*')\n",
    "ax.scatter(p_speaker1[0], p_speaker1[1], p_speaker1[2], c='r', marker='o')\n",
    "ax.scatter(p_speaker2[0], p_speaker2[1], p_speaker2[2], c='r', marker='o')\n",
    "for i in range(0, 21):\n",
    "    for j in range(0, 6):\n",
    "        ax.scatter(p_mic[i, j][0], p_mic[i, j][1], p_mic[i, j][2], c='b', marker='^')\n",
    "ax.set_xlabel('X Label')\n",
    "ax.set_ylabel('Y Label')\n",
    "ax.set_zlabel('Z Label')\n",
    "ax.axis('equal')\n",
    "plt.show()"
   ]
  },
  {
   "cell_type": "code",
   "execution_count": null,
   "metadata": {},
   "outputs": [],
   "source": [
    "d_s = np.linalg.norm(p_mic[0, 0] - p_speaker1)\n",
    "d_t = np.linalg.norm(p_mic[2, 0] - p_speaker1)\n",
    "d_i = np.linalg.norm(p_mic[1, 0] - p_speaker1)\n",
    "alpha = (1/d_t-1/d_i)/(1/d_t-1/d_s)"
   ]
  },
  {
   "cell_type": "code",
   "execution_count": null,
   "metadata": {},
   "outputs": [],
   "source": [
    "# Assuming cal_dtw_matrix returns both dtw_matrix and path\n",
    "dtw_matrix, path = cal_dtw_matrix(s, t)\n",
    "\n",
    "# Print the shape of the dtw_matrix\n",
    "print(dtw_matrix.shape)\n",
    "\n",
    "# Plot dtw matrix and show the path\n",
    "plt.figure(figsize=(10, 10))\n",
    "plt.imshow(dtw_matrix, origin='lower', cmap='gray')  # Use 'gray' colormap for better visibility\n",
    "\n",
    "# Highlight the path on the plot\n",
    "plt.plot(path[:, 1], path[:, 0], color='r', marker='o', markersize=5)\n",
    "\n",
    "plt.colorbar()\n",
    "plt.title('DTW Matrix with Path')\n",
    "plt.show()"
   ]
  },
  {
   "cell_type": "code",
   "execution_count": null,
   "metadata": {},
   "outputs": [],
   "source": [
    "path[0:6]"
   ]
  },
  {
   "cell_type": "code",
   "execution_count": null,
   "metadata": {},
   "outputs": [],
   "source": [
    "s_warp_vec = path[:,0]\n",
    "t_warp_vec = path[:,1]\n",
    "\n",
    "s_warp = np.array([])\n",
    "t_warp = np.array([])\n",
    "\n",
    "# # Extract warped sequences based on the optimal path\n",
    "for i in range(0, len(s_warp_vec)):\n",
    "    s_warp = np.append(s_warp, s[s_warp_vec[i]-1])\n",
    "    t_warp = np.append(t_warp, t[t_warp_vec[i]-1])\n",
    "\n",
    "i_warp = s_warp * alpha + t_warp * (1 - alpha)"
   ]
  },
  {
   "cell_type": "code",
   "execution_count": null,
   "metadata": {},
   "outputs": [],
   "source": [
    "beta = (d_i - d_t)/(d_s - d_t)\n"
   ]
  },
  {
   "cell_type": "code",
   "execution_count": null,
   "metadata": {},
   "outputs": [],
   "source": [
    "# Calculate the warping vector_s by dividing the elements of s_warp by the corresponding elements of s\n",
    "warp_vector_s = np.array(s_warp)[-2000:] / np.array(s)\n",
    "warp_vector_t = np.array(t_warp)[-2000:] / np.array(t)\n",
    "\n",
    "beta = (d_i - d_t)/(d_s - d_t)\n",
    "warp_vector_i = beta * warp_vector_s + (1 - beta) * warp_vector_t\n",
    "\n",
    "i_unwarp = i_warp[-2000:] / warp_vector_i\n",
    "# shift the unwarp signal to the left and add zeros to the right\n",
    "shift = len(path)-len(s)\n",
    "i_unwarp = np.concatenate((i_unwarp[shift:], np.zeros(shift)))"
   ]
  },
  {
   "cell_type": "code",
   "execution_count": null,
   "metadata": {},
   "outputs": [],
   "source": [
    "# plot s and s_warp and t and t_warp\n",
    "plt.figure(figsize=(10, 10))\n",
    "plt.subplot(2, 1, 1)\n",
    "plt.plot(s, color='b', label='s')\n",
    "plt.plot(s_warp, color='r', label='s_warp')\n",
    "plt.legend()\n",
    "plt.title('s and s_warp')\n",
    "\n",
    "plt.subplot(2, 1, 2)\n",
    "plt.plot(t, color='b', label='t')\n",
    "plt.plot(t_warp, color='r', label='t_warp')\n",
    "plt.legend()\n",
    "plt.title('t and t_warp')\n",
    "plt.show()"
   ]
  },
  {
   "cell_type": "code",
   "execution_count": null,
   "metadata": {},
   "outputs": [],
   "source": [
    "# plot s,t,i and ref\n",
    "plt.figure(figsize=(10, 10))\n",
    "# plt.plot(s, color='b', label='s')\n",
    "# plt.plot(t, color='g', label='t')\n",
    "plt.plot(i_warp[75:], color='r', label='i_unwarp')\n",
    "plt.plot(ref, color='k', label='ref')\n",
    "plt.legend()\n",
    "plt.title('s,t,i and ref')\n",
    "plt.show()"
   ]
  }
 ],
 "metadata": {
  "kernelspec": {
   "display_name": "base",
   "language": "python",
   "name": "python3"
  },
  "language_info": {
   "codemirror_mode": {
    "name": "ipython",
    "version": 3
   },
   "file_extension": ".py",
   "mimetype": "text/x-python",
   "name": "python",
   "nbconvert_exporter": "python",
   "pygments_lexer": "ipython3",
   "version": "3.9.7"
  }
 },
 "nbformat": 4,
 "nbformat_minor": 2
}
