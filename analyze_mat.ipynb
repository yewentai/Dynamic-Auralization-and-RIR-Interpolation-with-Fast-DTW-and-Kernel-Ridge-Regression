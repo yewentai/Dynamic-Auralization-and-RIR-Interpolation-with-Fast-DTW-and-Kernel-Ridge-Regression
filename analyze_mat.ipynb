{
 "cells": [
  {
   "cell_type": "code",
   "execution_count": null,
   "metadata": {},
   "outputs": [],
   "source": [
    "import scipy.io\n",
    "import matplotlib.pyplot as plt\n",
    "import numpy as np\n",
    "\n",
    "# Replace 'your_file.mat' with the path to your MATLAB .mat file\n",
    "mat_file_path = \"C:\\\\Users\\yewentai\\AppData\\Roaming\\MathWorks\\MATLAB Add-Ons\\Toolboxes\\SDM Toolbox\\data\\IR_living_room.mat\"\n",
    "\n",
    "# Load the .mat file\n",
    "mat_contents = scipy.io.loadmat(mat_file_path)\n",
    "\n",
    "# Access variables from the loaded .mat file\n",
    "ir_left = mat_contents['ir_left']\n",
    "ir_right = mat_contents['ir_right']\n",
    "\n",
    "ir_left = ir_left.transpose()\n",
    "ir_right = ir_right.transpose()"
   ]
  },
  {
   "cell_type": "code",
   "execution_count": null,
   "metadata": {},
   "outputs": [],
   "source": [
    "fs = 192e3\n",
    "x = np.arange(0, 192e3) / fs"
   ]
  },
  {
   "cell_type": "code",
   "execution_count": null,
   "metadata": {},
   "outputs": [],
   "source": [
    "plt.figure(figsize=(12, 4))\n",
    "# Plot each line\n",
    "for i in range(0,1):\n",
    "    plt.plot(x, ir_left[i], label=f'Mic {i+1}')\n",
    "    plt.plot(x, ir_right[i], label=f'Mic {i+2}')\n",
    "\n",
    "# Add labels and legend\n",
    "plt.xlabel('Time')\n",
    "plt.ylabel('Amplitude')\n",
    "plt.legend()\n",
    "plt.xlim(0.008,0.015)\n",
    "# Show the plot\n",
    "plt.show()"
   ]
  },
  {
   "cell_type": "code",
   "execution_count": null,
   "metadata": {},
   "outputs": [],
   "source": [
    "plt.figure(figsize=(12, 4))\n",
    "# Plot each line\n",
    "for i in range(0,6):\n",
    "    plt.plot(x, ir_left[i], label=f'Mic {i+1}')\n",
    "\n",
    "# Add labels and legend\n",
    "plt.xlabel('Time')\n",
    "plt.ylabel('Amplitude')\n",
    "plt.legend()\n",
    "plt.xlim(0.01,0.02)\n",
    "# Show the plot\n",
    "plt.show()"
   ]
  }
 ],
 "metadata": {
  "kernelspec": {
   "display_name": "base",
   "language": "python",
   "name": "python3"
  },
  "language_info": {
   "codemirror_mode": {
    "name": "ipython",
    "version": 3
   },
   "file_extension": ".py",
   "mimetype": "text/x-python",
   "name": "python",
   "nbconvert_exporter": "python",
   "pygments_lexer": "ipython3",
   "version": "3.9.7"
  }
 },
 "nbformat": 4,
 "nbformat_minor": 2
}
